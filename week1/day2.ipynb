{
 "cells": [
  {
   "cell_type": "code",
   "execution_count": 1,
   "metadata": {},
   "outputs": [],
   "source": [
    "import requests\n",
    "from bs4 import BeautifulSoup\n",
    "from IPython.display import Markdown, display"
   ]
  },
  {
   "cell_type": "code",
   "execution_count": 2,
   "metadata": {},
   "outputs": [],
   "source": [
    "OLLAMA_API = \"http://localhost:11434/api/chat\"\n",
    "HEADERS = {\"Content-Type\": \"application/json\"}\n",
    "MODEL = \"llama3.2\""
   ]
  },
  {
   "cell_type": "code",
   "execution_count": 3,
   "metadata": {},
   "outputs": [],
   "source": [
    "messages = [\n",
    "    {\n",
    "        \"role\": \"user\",\n",
    "        \"content\": \"Describe some of the business applications of Generative AI\",\n",
    "    }\n",
    "]"
   ]
  },
  {
   "cell_type": "code",
   "execution_count": 4,
   "metadata": {},
   "outputs": [],
   "source": [
    "payload = {\n",
    "    'model': MODEL, \n",
    "    'messages': messages, \n",
    "    \"stream\": False\n",
    "}"
   ]
  },
  {
   "cell_type": "code",
   "execution_count": 5,
   "metadata": {},
   "outputs": [],
   "source": [
    "response = requests.post(OLLAMA_API, json=payload, headers=HEADERS)"
   ]
  },
  {
   "cell_type": "code",
   "execution_count": 10,
   "metadata": {},
   "outputs": [
    {
     "name": "stdout",
     "output_type": "stream",
     "text": [
      "Generative AI has numerous business applications across various industries, including:\n",
      "\n",
      "1. **Content Generation**: AI-powered tools can generate high-quality content such as articles, blog posts, social media posts, and product descriptions, saving time and effort for content creators.\n",
      "2. **Marketing Automation**: Generative AI can help automate marketing campaigns by generating personalized emails, ad copy, and product recommendations based on customer data and behavior.\n",
      "3. **Product Design**: AI-powered generative design tools can create 2D and 3D designs for products, packaging, and branding materials, reducing design time and costs.\n",
      "4. **Personalized Recommendations**: Generative AI algorithms can analyze user data and behavior to provide personalized product recommendations, improving customer engagement and sales.\n",
      "5. **Chatbots and Virtual Assistants**: AI-powered chatbots and virtual assistants can automate customer service, providing 24/7 support and answering common queries.\n",
      "6. **Image and Video Generation**: Generative AI can create high-quality images and videos for marketing, advertising, and entertainment purposes, such as product visuals, social media posts, and movie trailers.\n",
      "7. **Data Analysis and Insights**: Generative AI algorithms can analyze large datasets to identify patterns, trends, and correlations, providing valuable insights for businesses.\n",
      "8. **Risk Assessment and Compliance**: AI-powered tools can help detect anomalies in financial transactions, credit scores, and other data, reducing the risk of fraud and non-compliance.\n",
      "9. **Supply Chain Optimization**: Generative AI can analyze supply chain data to predict demand, optimize inventory levels, and identify bottlenecks, improving logistics and reducing costs.\n",
      "10. **Healthcare and Medical Research**: AI-powered tools can generate medical images, diagnose diseases, and develop personalized treatment plans based on patient data and genetic profiles.\n",
      "11. **Education and Learning**: Generative AI can create customized learning materials, adaptive assessments, and personalized educational content for students of all ages.\n",
      "12. **Customer Service Analytics**: AI-powered tools can analyze customer feedback, sentiment analysis, and behavior to provide insights for customer service improvements.\n",
      "13. **Security and Threat Detection**: Generative AI algorithms can detect anomalies in security data, predict potential threats, and alert security teams to take action.\n",
      "14. **Real Estate and Property Development**: AI-powered tools can generate 3D models of buildings, estimate property values, and predict market trends for developers.\n",
      "15. **Supply Chain Forecasts**: Generative AI can analyze historical data and external factors to predict future supply chain demand, helping businesses plan and optimize their operations.\n",
      "\n",
      "These are just a few examples of the many business applications of Generative AI. As the technology continues to evolve, we can expect even more innovative use cases across various industries.\n"
     ]
    }
   ],
   "source": [
    "print(response.json()['message']['content'])"
   ]
  },
  {
   "cell_type": "code",
   "execution_count": 11,
   "metadata": {},
   "outputs": [
    {
     "data": {
      "text/plain": [
       "ChatResponse(model='llama3.2', created_at='2025-01-24T07:25:33.3350333Z', done=True, done_reason='stop', total_duration=32135552400, load_duration=23567600, prompt_eval_count=35, prompt_eval_duration=70000000, eval_count=484, eval_duration=32039000000, message=Message(role='assistant', content='Generative AI has numerous business applications across various industries, including:\\n\\n1. **Content Generation**: AI-powered tools can generate high-quality content such as blog posts, social media posts, product descriptions, and more. This helps businesses save time and resources, while also improving the consistency and quality of their content.\\n2. **Marketing Automation**: Generative AI can be used to automate marketing processes, such as creating personalized emails, ads, and social media campaigns. This enables businesses to reach a wider audience, personalize their messaging, and improve customer engagement.\\n3. **Product Design**: AI-powered design tools can generate product designs, prototypes, and visualizations, reducing the time and cost associated with traditional design methods.\\n4. **Data Analysis and Visualization**: Generative AI can be used to analyze and visualize large datasets, providing insights that would be difficult or impossible for humans to detect manually.\\n5. **Customer Service Chatbots**: AI-powered chatbots can generate responses to customer inquiries, helping businesses provide faster, more efficient, and personalized support.\\n6. **Sales Enablement**: Generative AI can help sales teams generate leads, create personalized sales materials, and even predict the likelihood of a sale.\\n7. **Creative Services**: AI-powered tools can assist in creative fields such as music composition, graphic design, and writing, helping businesses produce high-quality content quickly and efficiently.\\n8. **Risk Management**: Generative AI can be used to analyze large datasets and identify potential risks, enabling businesses to take proactive measures to mitigate them.\\n9. **Predictive Maintenance**: AI-powered predictive maintenance tools can analyze sensor data from machines and predict when maintenance is required, reducing downtime and improving overall efficiency.\\n10. **Supply Chain Optimization**: Generative AI can help optimize supply chain operations by predicting demand, identifying bottlenecks, and suggesting optimal inventory levels.\\n\\nSome specific examples of businesses that are already using generative AI include:\\n\\n* **Amazon**: Uses AI-powered chatbots to provide customer support\\n* **Microsoft**: Employs AI-powered design tools for product development\\n* **IBM**: Utilizes AI-powered analytics to predict market trends and optimize business operations\\n* **Facebook**: Leverages AI-powered content generation to personalize user experiences\\n\\nThese are just a few examples of the many ways in which generative AI is being used in business. As the technology continues to evolve, we can expect to see even more innovative applications across various industries.', images=None, tool_calls=None))"
      ]
     },
     "execution_count": 11,
     "metadata": {},
     "output_type": "execute_result"
    }
   ],
   "source": [
    "import ollama \n",
    "\n",
    "response = ollama.chat(model=MODEL, messages=messages) \n",
    "response"
   ]
  },
  {
   "cell_type": "code",
   "execution_count": 14,
   "metadata": {},
   "outputs": [
    {
     "name": "stdout",
     "output_type": "stream",
     "text": [
      "Generative AI has numerous business applications across various industries, including:\n",
      "\n",
      "1. **Content Generation**: AI-powered tools can generate high-quality content such as blog posts, social media posts, product descriptions, and more. This helps businesses save time and resources, while also improving the consistency and quality of their content.\n",
      "2. **Marketing Automation**: Generative AI can be used to automate marketing processes, such as creating personalized emails, ads, and social media campaigns. This enables businesses to reach a wider audience, personalize their messaging, and improve customer engagement.\n",
      "3. **Product Design**: AI-powered design tools can generate product designs, prototypes, and visualizations, reducing the time and cost associated with traditional design methods.\n",
      "4. **Data Analysis and Visualization**: Generative AI can be used to analyze and visualize large datasets, providing insights that would be difficult or impossible for humans to detect manually.\n",
      "5. **Customer Service Chatbots**: AI-powered chatbots can generate responses to customer inquiries, helping businesses provide faster, more efficient, and personalized support.\n",
      "6. **Sales Enablement**: Generative AI can help sales teams generate leads, create personalized sales materials, and even predict the likelihood of a sale.\n",
      "7. **Creative Services**: AI-powered tools can assist in creative fields such as music composition, graphic design, and writing, helping businesses produce high-quality content quickly and efficiently.\n",
      "8. **Risk Management**: Generative AI can be used to analyze large datasets and identify potential risks, enabling businesses to take proactive measures to mitigate them.\n",
      "9. **Predictive Maintenance**: AI-powered predictive maintenance tools can analyze sensor data from machines and predict when maintenance is required, reducing downtime and improving overall efficiency.\n",
      "10. **Supply Chain Optimization**: Generative AI can help optimize supply chain operations by predicting demand, identifying bottlenecks, and suggesting optimal inventory levels.\n",
      "\n",
      "Some specific examples of businesses that are already using generative AI include:\n",
      "\n",
      "* **Amazon**: Uses AI-powered chatbots to provide customer support\n",
      "* **Microsoft**: Employs AI-powered design tools for product development\n",
      "* **IBM**: Utilizes AI-powered analytics to predict market trends and optimize business operations\n",
      "* **Facebook**: Leverages AI-powered content generation to personalize user experiences\n",
      "\n",
      "These are just a few examples of the many ways in which generative AI is being used in business. As the technology continues to evolve, we can expect to see even more innovative applications across various industries.\n"
     ]
    }
   ],
   "source": [
    "print(response['message']['content'])"
   ]
  },
  {
   "cell_type": "code",
   "execution_count": 15,
   "metadata": {},
   "outputs": [],
   "source": [
    "\n",
    "# A class to represent a Webpage\n",
    "# If you're not familiar with Classes, check out the \"Intermediate Python\" notebook\n",
    "\n",
    "# Some websites need you to use proper headers when fetching them:\n",
    "headers = {\n",
    " \"User-Agent\": \"Mozilla/5.0 (Windows NT 10.0; Win64; x64) AppleWebKit/537.36 (KHTML, like Gecko) Chrome/117.0.0.0 Safari/537.36\"\n",
    "}"
   ]
  },
  {
   "cell_type": "code",
   "execution_count": 16,
   "metadata": {},
   "outputs": [],
   "source": [
    "class Website: \n",
    "    def __init__(self, url):\n",
    "        self.url = url \n",
    "        response = requests.get(url, headers=headers)\n",
    "        soup = BeautifulSoup(response.content,'html.parser') \n",
    "        self.title = soup.title.string if soup.title else \"Title Not Found\" \n",
    "        for irrelevant in soup.body([\"script\", \"style\", \"img\", \"input\"]): \n",
    "            irrelevant.decompose() \n",
    "        self.text = soup.body.get_text(separator = \"\\n\", strip = True) \n",
    "\n",
    "        "
   ]
  },
  {
   "cell_type": "code",
   "execution_count": null,
   "metadata": {},
   "outputs": [],
   "source": []
  },
  {
   "cell_type": "code",
   "execution_count": 17,
   "metadata": {},
   "outputs": [],
   "source": [
    "system_prompt = \"\"\"You are an assistant that analyzes the contents of a website and provide a short summary, ignoring text that might be navigation related. Respond in markdown\"\"\""
   ]
  },
  {
   "cell_type": "code",
   "execution_count": null,
   "metadata": {},
   "outputs": [],
   "source": []
  },
  {
   "cell_type": "code",
   "execution_count": 18,
   "metadata": {},
   "outputs": [],
   "source": [
    "def user_prompt_for(website):\n",
    "    user_prompt = f\"You are looking at a website titled {website.title}\"\n",
    "    user_prompt += \"\\nThe contents of these website are as follows please provide a short summary of this website in markdown. \\\n",
    "   \\nIf it includes news or announcements, then summarize these too \\n\\n\"\n",
    "    user_prompt += website.text \n",
    "\n",
    "    return user_prompt"
   ]
  },
  {
   "cell_type": "code",
   "execution_count": 19,
   "metadata": {},
   "outputs": [],
   "source": [
    "def message_for(website):\n",
    "    return [\n",
    "        {\"role\": \"system\", \"content\": system_prompt},\n",
    "        {\"role\": \"user\", \"content\": user_prompt_for(website)},\n",
    "    ]"
   ]
  },
  {
   "cell_type": "code",
   "execution_count": 22,
   "metadata": {},
   "outputs": [],
   "source": [
    "test = Website('https://www.scrapethissite.com/pages/')"
   ]
  },
  {
   "cell_type": "code",
   "execution_count": 25,
   "metadata": {},
   "outputs": [
    {
     "data": {
      "text/plain": [
       "[{'role': 'system',\n",
       "  'content': 'You are an assistant that analyzes the contents of a website and provide a short summary, ignoring text that might be navigation related. Respond in markdown'},\n",
       " {'role': 'user',\n",
       "  'content': \"You are looking at a website titled Learn Web Scraping | Scrape This Site | A public sandbox for learning web scraping\\nThe contents of these website are as follows please provide a short summary of this website in markdown.    \\nIf it includes news or announcements, then summarize these too \\n\\nScrape This Site\\nSandbox\\nLessons\\nFAQ\\nLogin\\nWeb Scraping Sandbox\\nCountries of the World: A Simple Example\\nA single page that lists information about all the countries in the world. Good for those just get started with web scraping.\\nHockey Teams: Forms, Searching and Pagination\\nBrowse through a database of NHL team stats since 1990. Practice building a scraper that handles common website interface components.\\nOscar Winning Films: AJAX and Javascript\\nClick through a bunch of great films. Learn how content is added to the page asynchronously with Javascript and how you can scrape it.\\nTurtles All the Way Down: Frames & iFrames\\nSome older sites might still use frames to break up thier pages. Modern ones might be using iFrames to expose data. Learn about turtles as you scrape content inside frames.\\nAdvanced Topics: Real World Challenges You'll Encounter\\nScraping real websites, you're likely run into a number of common gotchas. Get practice with spoofing headers, handling logins & session cookies, finding CSRF tokens, and other common network errors.\\nLessons and Videos © Hartley Brody 2023\"}]"
      ]
     },
     "execution_count": 25,
     "metadata": {},
     "output_type": "execute_result"
    }
   ],
   "source": []
  },
  {
   "cell_type": "code",
   "execution_count": 26,
   "metadata": {},
   "outputs": [],
   "source": [
    "\n",
    "\n",
    "response = ollama.chat(model=MODEL, messages=message_for(test)) \n"
   ]
  },
  {
   "cell_type": "code",
   "execution_count": 33,
   "metadata": {},
   "outputs": [],
   "source": [
    "def summarize(url): \n",
    "    wesbite = Website(url) \n",
    "    response = ollama.chat(model=MODEL, messages=message_for(wesbite)) \n",
    "\n",
    "    return response.message.content \n",
    "\n"
   ]
  },
  {
   "cell_type": "code",
   "execution_count": 35,
   "metadata": {},
   "outputs": [
    {
     "name": "stdout",
     "output_type": "stream",
     "text": [
      "### Summary of Learn Web Scraping Website\n",
      "=====================================\n",
      "\n",
      "The website \"Learn Web Scraping\" is a public sandbox for learning web scraping. It offers various resources to help users get started with web scraping.\n",
      "\n",
      "#### Key Features\n",
      "\n",
      "*   **Sandbox**: A collection of pre-built web scraping examples and exercises.\n",
      "*   **Lessons**: A structured approach to learning web scraping, covering topics from basics to advanced concepts.\n",
      "*   **FAQ**: Answers to common questions related to web scraping.\n",
      "*   **Web Scraping Sandbox**: A platform where users can practice building scrapers on real-world data.\n",
      "\n",
      "#### Examples and Exercises\n",
      "-------------------------\n",
      "\n",
      "The website includes several examples and exercises, including:\n",
      "\n",
      "*   *Countries of the World*: A simple example that lists information about all countries in the world.\n",
      "*   *Hockey Teams*: An exercise that involves scraping NHL team stats since 1990.\n",
      "*   *Oscar Winning Films*: A challenge to scrape content from a website with AJAX and JavaScript.\n",
      "\n",
      "#### Advanced Topics\n",
      "-------------------\n",
      "\n",
      "The website also covers advanced topics such as:\n",
      "\n",
      "*   *Frames & iFrames*: Scraping content inside frames.\n",
      "*   *Real World Challenges*: Practical exercises for dealing with common network errors, such as spoofing headers, handling logins, and session cookies.\n"
     ]
    }
   ],
   "source": [
    "print(summarize('https://www.scrapethissite.com/pages/'))"
   ]
  },
  {
   "cell_type": "code",
   "execution_count": null,
   "metadata": {},
   "outputs": [],
   "source": []
  }
 ],
 "metadata": {
  "kernelspec": {
   "display_name": ".venv",
   "language": "python",
   "name": "python3"
  },
  "language_info": {
   "codemirror_mode": {
    "name": "ipython",
    "version": 3
   },
   "file_extension": ".py",
   "mimetype": "text/x-python",
   "name": "python",
   "nbconvert_exporter": "python",
   "pygments_lexer": "ipython3",
   "version": "3.12.0"
  }
 },
 "nbformat": 4,
 "nbformat_minor": 2
}
