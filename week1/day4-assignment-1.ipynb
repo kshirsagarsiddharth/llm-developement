{
 "cells": [
  {
   "cell_type": "code",
   "execution_count": 4,
   "metadata": {},
   "outputs": [],
   "source": [
    "import os \n",
    "import requests \n",
    "from dotenv import load_dotenv \n",
    "from openai import OpenAI \n",
    "from IPython.display import Markdown, display, update_display "
   ]
  },
  {
   "cell_type": "code",
   "execution_count": null,
   "metadata": {},
   "outputs": [],
   "source": [
    "load_dotenv(override=True) \n",
    "api_key = os.getenv('OPENAI_API_KEY')"
   ]
  },
  {
   "cell_type": "code",
   "execution_count": 7,
   "metadata": {},
   "outputs": [],
   "source": [
    "openai = OpenAI()"
   ]
  },
  {
   "cell_type": "code",
   "execution_count": 8,
   "metadata": {},
   "outputs": [],
   "source": [
    "system_prompt = \"\"\" You are a technical tutor. Your job is to understand user questions and answer those questions \n",
    "With proper examples and explanations. Make sure the response is in markdown \n",
    "\"\"\""
   ]
  },
  {
   "cell_type": "code",
   "execution_count": 6,
   "metadata": {},
   "outputs": [],
   "source": [
    "MODEL_GPT = 'gpt-4o-mini'\n",
    "MODEL_LLAMA = 'llama3.2'"
   ]
  },
  {
   "cell_type": "code",
   "execution_count": 18,
   "metadata": {},
   "outputs": [],
   "source": [
    "def generate_explanation_openai(question): \n",
    "    response = openai.chat.completions.create(\n",
    "        model=MODEL_GPT, \n",
    "        messages=[\n",
    "            {\n",
    "                'role':\"system\",\"content\":system_prompt\n",
    "            }, \n",
    "            {\n",
    "                'role':'user', \"content\": question \n",
    "            }\n",
    "        ]\n",
    "    )\n",
    "\n",
    "    result = response.choices[0].message.content \n",
    "\n",
    "    return result "
   ]
  },
  {
   "cell_type": "code",
   "execution_count": 10,
   "metadata": {},
   "outputs": [],
   "source": [
    "question = \"\"\"\n",
    "Please explain what this code does and why:\n",
    "yield from {book.get(\"author\") for book in books if book.get(\"author\")}\n",
    "\"\"\""
   ]
  },
  {
   "cell_type": "code",
   "execution_count": 14,
   "metadata": {},
   "outputs": [],
   "source": [
    "ollama =  OpenAI(base_url='http://localhost:11434/v1', api_key='ollama')"
   ]
  },
  {
   "cell_type": "code",
   "execution_count": 20,
   "metadata": {},
   "outputs": [],
   "source": [
    "def generate_explanation_ollama(question): \n",
    "    response = ollama.chat.completions.create(\n",
    "        model=MODEL_LLAMA, \n",
    "        messages=[\n",
    "            {\n",
    "                'role':\"system\",\"content\":system_prompt\n",
    "            }, \n",
    "            {\n",
    "                'role':'user', \"content\": question \n",
    "            }\n",
    "        ]\n",
    "    )\n",
    "\n",
    "    result = response.choices[0].message.content \n",
    "\n",
    "    return result "
   ]
  },
  {
   "cell_type": "code",
   "execution_count": null,
   "metadata": {},
   "outputs": [],
   "source": []
  },
  {
   "cell_type": "code",
   "execution_count": 21,
   "metadata": {},
   "outputs": [
    {
     "data": {
      "text/markdown": [
       "**Iterator Yielding and List Comprehensions**\n",
       "==============================================\n",
       "\n",
       "The given code snippet utilizes two Python features: `yield` and list comprehensions. Let's break it down into these components:\n",
       "\n",
       "### 1. `yield` Expression\n",
       "\n",
       "```python\n",
       "yield from ...\n",
       "```\n",
       "\n",
       "The `yield from` expression is used in Python 3.3 and above. It allows us to yield items from a subiterator, effectively \"lifting\" a function up to its surrounding function.\n",
       "\n",
       "**Why is it useful?**\n",
       "\n",
       "Suppose you have two functions:\n",
       "\n",
       "- A main function (`get_books`) that gathers books with their authors.\n",
       "- A generator function (`get_author`) within the `get_books` function that yields individual author names for each book.\n",
       "\n",
       "By using `yield from`, we can easily combine these two steps into one, improving readability and reducing code duplication.\n",
       "\n",
       "### 2. List Comprehensions\n",
       "\n",
       "```python\n",
       "{x: value for x in ...}\n",
       "```\n",
       "\n",
       "A list comprehension is a concise way to create new lists by performing an operation on each element of an existing iterable (like a list, tuple, or dictionary). For example:\n",
       "\n",
       "```python\n",
       "authors = [\"John\", \"Jane\", \"Bob\"]\n",
       "author_names = [author[\"name\"] for author in authors]\n",
       "# Results in: ['John', 'Jane', 'Bob']\n",
       "```\n",
       "\n",
       "In the provided code snippet, we use a list comprehension within the `yield from` expression:\n",
       "\n",
       "```python\n",
       "yield from {book.get(\"author\") for book in books if book.get(\"author\")}\n",
       "```\n",
       "\n",
       "Let's break down this line further.\n",
       "\n",
       "### Breaking Down the Code\n",
       "\n",
       "- `for book in books`: We're iterating over an iterable named `books`.\n",
       "- `if book.get(\"author\")`: This is a conditional statement, making sure only books with existing authors are processed.\n",
       "- `{book.get(\"author\") for ...}`: Within the iteration and condition, we're creating a dictionary comprehension that yields author names (`book.get(\"author\")`) from each qualifying `book` object.\n",
       "\n",
       "### Putting it Together\n",
       "\n",
       "The final code results in an iterator (a generator or an iterator object) containing author names for every book with existing authors. You can use this iterator anywhere you'd use another iterator, like feeding the output into a function that expects iterables:\n",
       "\n",
       "```python\n",
       "def main():\n",
       "    # Create books (assuming they're dictionaries)\n",
       "    books = [\n",
       "        {\"title\": \"Book1\", \"author\": \"John\"},\n",
       "        {\"title\": \"Book2\", \"author\": None},\n",
       "        {\"title\": \"Book3\", \"author\": \"Jane\"}\n",
       "    ]\n",
       "\n",
       "    # Use the iter with author names\n",
       "    for author in yield from {book.get(\"author\") for book in books if book.get(\"author\")}:\n",
       "        print(author)\n",
       "\n",
       "main()\n",
       "```\n",
       "\n",
       "This will output:\n",
       "\n",
       "```\n",
       "John\n",
       "Jane\n",
       "```"
      ],
      "text/plain": [
       "<IPython.core.display.Markdown object>"
      ]
     },
     "metadata": {},
     "output_type": "display_data"
    }
   ],
   "source": [
    "display(Markdown(generate_explanation_ollama(question)))"
   ]
  },
  {
   "cell_type": "code",
   "execution_count": null,
   "metadata": {},
   "outputs": [],
   "source": []
  }
 ],
 "metadata": {
  "kernelspec": {
   "display_name": ".venv",
   "language": "python",
   "name": "python3"
  },
  "language_info": {
   "codemirror_mode": {
    "name": "ipython",
    "version": 3
   },
   "file_extension": ".py",
   "mimetype": "text/x-python",
   "name": "python",
   "nbconvert_exporter": "python",
   "pygments_lexer": "ipython3",
   "version": "3.12.0"
  }
 },
 "nbformat": 4,
 "nbformat_minor": 2
}
